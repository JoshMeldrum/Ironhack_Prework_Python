{
 "cells": [
  {
   "cell_type": "code",
   "execution_count": 6,
   "id": "8fe7df7a",
   "metadata": {},
   "outputs": [
    {
     "name": "stdout",
     "output_type": "stream",
     "text": [
      "Please input a temperature in Fahrenheit. 90\n",
      "Your temperature in Celsius is: 32.22222222222222\n"
     ]
    }
   ],
   "source": [
    "x=input('Please input a temperature in Fahrenheit. ')  \n",
    "y=(float(x)-32)*5/9  \n",
    "print('Your temperature in Celsius is:', y)"
   ]
  },
  {
   "cell_type": "code",
   "execution_count": 14,
   "id": "712cced0",
   "metadata": {},
   "outputs": [
    {
     "name": "stdout",
     "output_type": "stream",
     "text": [
      "Press 1 to convert from Fahrenheit to Celsius or Press 2 to convert from Celsius to Fahrenheit.2\n",
      "What is the number you want to convert? 26\n",
      "78.8\n"
     ]
    }
   ],
   "source": [
    "\n",
    "x = int(input(\"Press 1 to convert from Fahrenheit to Celsius or Press 2 to convert from Celsius to Fahrenheit.\"))\n",
    "y = input(\"What is the number you want to convert? \")\n",
    "z = float(x)\n",
    "\n",
    "if z == 1:\n",
    "    y=(float(y)-32)*5/9\n",
    "    print(y)\n",
    "elif z == 2:\n",
    "    y=float(y)*9/5+32\n",
    "    print(y)\n",
    "else:\n",
    "    print(\"Please enter either 1 or 2\")"
   ]
  },
  {
   "cell_type": "code",
   "execution_count": 15,
   "id": "307734d0",
   "metadata": {},
   "outputs": [],
   "source": [
    "gandalf = [10, 11, 13, 30, 22, 11, 10, 33, 22, 22]\n",
    "saruman = [23, 66, 12, 43, 12, 10, 44, 23, 12, 17]"
   ]
  },
  {
   "cell_type": "code",
   "execution_count": 22,
   "id": "eed7575c",
   "metadata": {},
   "outputs": [
    {
     "name": "stdout",
     "output_type": "stream",
     "text": [
      "Saruman\n",
      "Saruman\n",
      "Gandalf\n",
      "Saruman\n",
      "Gandalf\n",
      "Gandalf\n",
      "Saruman\n",
      "Gandalf\n",
      "Gandalf\n",
      "Gandalf\n"
     ]
    }
   ],
   "source": [
    "if gandalf[0]>saruman[0]:\n",
    "    print('Gandalf')\n",
    "else:\n",
    "    print('Saruman')\n",
    "if gandalf[1]>saruman[1]:\n",
    "    print('Gandalf')\n",
    "else:\n",
    "    print('Saruman')\n",
    "if gandalf[2]>saruman[2]:\n",
    "    print('Gandalf')\n",
    "else:\n",
    "    print('Saruman')\n",
    "if gandalf[3]>saruman[3]:\n",
    "    print('Gandalf')\n",
    "else:\n",
    "    print('Saruman')\n",
    "if gandalf[4]>saruman[4]:\n",
    "    print('Gandalf')\n",
    "else:\n",
    "    print('Saruman')\n",
    "if gandalf[5]>saruman[5]:\n",
    "    print('Gandalf')\n",
    "else:\n",
    "    print('Saruman')\n",
    "if gandalf[6]>saruman[6]:\n",
    "    print('Gandalf')\n",
    "else:\n",
    "    print('Saruman')\n",
    "if gandalf[7]>saruman[7]:\n",
    "    print('Gandalf')\n",
    "else:\n",
    "    print('Saruman')\n",
    "if gandalf[8]>saruman[8]:\n",
    "    print('Gandalf')\n",
    "else:\n",
    "    print('Saruman')\n",
    "if gandalf[9]>saruman[9]:\n",
    "    print('Gandalf')\n",
    "else:\n",
    "    print('Saruman')\n"
   ]
  },
  {
   "cell_type": "code",
   "execution_count": null,
   "id": "1ec7c7f1",
   "metadata": {},
   "outputs": [],
   "source": [
    "# Gandalf wins"
   ]
  }
 ],
 "metadata": {
  "kernelspec": {
   "display_name": "Python 3",
   "language": "python",
   "name": "python3"
  },
  "language_info": {
   "codemirror_mode": {
    "name": "ipython",
    "version": 3
   },
   "file_extension": ".py",
   "mimetype": "text/x-python",
   "name": "python",
   "nbconvert_exporter": "python",
   "pygments_lexer": "ipython3",
   "version": "3.8.8"
  }
 },
 "nbformat": 4,
 "nbformat_minor": 5
}
