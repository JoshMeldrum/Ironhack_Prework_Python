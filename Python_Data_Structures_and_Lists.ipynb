{
 "cells": [
  {
   "cell_type": "code",
   "execution_count": null,
   "id": "d4b7b935",
   "metadata": {},
   "outputs": [],
   "source": [
    "\n",
    "1. Given the list:\n",
    "    lst = [1, 2, 34, 5, 3, 12, 9, 8, 67, 89, 98, 90, 39, 21, 45, 46, 23, 13]\n",
    "    \n",
    "Answer the following questions:\n",
    "    \n",
    "- How many elements are in the list?\n",
    "- Using indexes, find out which is the first element in the list?\n",
    "- Using indexes, find out which is the last element in the list?\n",
    "- What is the index of element `90` in the list?\n",
    "- Which are the first 8 elements in the list?\n",
    "- Append elements 100 and 110 to the list?\n",
    "- Use the sort function from numpy library to sort the elements in the list. \n",
    "\n",
    "2. Can a list have two or more elements equal? \n",
    "Try and test. Try to define a new list with a few similar values and see if it works. "
   ]
  },
  {
   "cell_type": "code",
   "execution_count": 6,
   "id": "6647c9b1",
   "metadata": {},
   "outputs": [],
   "source": [
    "x = [1, 2, 34, 5, 3, 12, 9, 8, 67, 89, 98, 90, 39, 21, 45, 46, 23, 13]"
   ]
  },
  {
   "cell_type": "code",
   "execution_count": 7,
   "id": "b21b21cb",
   "metadata": {},
   "outputs": [
    {
     "data": {
      "text/plain": [
       "18"
      ]
     },
     "execution_count": 7,
     "metadata": {},
     "output_type": "execute_result"
    }
   ],
   "source": [
    "len(x)"
   ]
  },
  {
   "cell_type": "code",
   "execution_count": 9,
   "id": "fde30ff2",
   "metadata": {},
   "outputs": [
    {
     "data": {
      "text/plain": [
       "1"
      ]
     },
     "execution_count": 9,
     "metadata": {},
     "output_type": "execute_result"
    }
   ],
   "source": [
    "x[0]"
   ]
  },
  {
   "cell_type": "code",
   "execution_count": 11,
   "id": "35d4703d",
   "metadata": {},
   "outputs": [
    {
     "data": {
      "text/plain": [
       "13"
      ]
     },
     "execution_count": 11,
     "metadata": {},
     "output_type": "execute_result"
    }
   ],
   "source": [
    "x[17]"
   ]
  },
  {
   "cell_type": "code",
   "execution_count": 14,
   "id": "eb29e96d",
   "metadata": {},
   "outputs": [
    {
     "data": {
      "text/plain": [
       "11"
      ]
     },
     "execution_count": 14,
     "metadata": {},
     "output_type": "execute_result"
    }
   ],
   "source": [
    "x.index(90)"
   ]
  },
  {
   "cell_type": "code",
   "execution_count": 17,
   "id": "28791b06",
   "metadata": {},
   "outputs": [
    {
     "data": {
      "text/plain": [
       "[1, 2, 34, 5, 3, 12, 9, 8]"
      ]
     },
     "execution_count": 17,
     "metadata": {},
     "output_type": "execute_result"
    }
   ],
   "source": [
    "x[:8]"
   ]
  },
  {
   "cell_type": "code",
   "execution_count": 22,
   "id": "64257110",
   "metadata": {},
   "outputs": [
    {
     "name": "stdout",
     "output_type": "stream",
     "text": [
      "[1, 2, 34, 5, 3, 12, 9, 8, 67, 89, 98, 90, 39, 21, 45, 46, 23, 13, '100', '100', 100, 110]\n"
     ]
    }
   ],
   "source": [
    "x.append(100)\n",
    "x.append(110)\n",
    "print(x)"
   ]
  },
  {
   "cell_type": "code",
   "execution_count": 23,
   "id": "0ab0b0b8",
   "metadata": {},
   "outputs": [
    {
     "name": "stdout",
     "output_type": "stream",
     "text": [
      "[1, 1, 1, 3, 17, 20]\n"
     ]
    }
   ],
   "source": [
    "x = [1, 1, 1, 3, 17, 20]\n",
    "print(x)"
   ]
  }
 ],
 "metadata": {
  "kernelspec": {
   "display_name": "Python 3",
   "language": "python",
   "name": "python3"
  },
  "language_info": {
   "codemirror_mode": {
    "name": "ipython",
    "version": 3
   },
   "file_extension": ".py",
   "mimetype": "text/x-python",
   "name": "python",
   "nbconvert_exporter": "python",
   "pygments_lexer": "ipython3",
   "version": "3.8.8"
  }
 },
 "nbformat": 4,
 "nbformat_minor": 5
}
