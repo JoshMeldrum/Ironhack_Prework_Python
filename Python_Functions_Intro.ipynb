{
 "cells": [
  {
   "cell_type": "code",
   "execution_count": 1,
   "id": "c74ccc71",
   "metadata": {},
   "outputs": [],
   "source": [
    "def function1 (x):\n",
    "    return 5 * x"
   ]
  },
  {
   "cell_type": "code",
   "execution_count": 13,
   "id": "21b4b781",
   "metadata": {},
   "outputs": [
    {
     "name": "stdout",
     "output_type": "stream",
     "text": [
      "Enter name: Josh\n",
      "Enter birth year: 1991\n",
      "Generation: \n",
      "1991\n",
      "Josh is millennial\n"
     ]
    }
   ],
   "source": [
    "def generation_calculator (name, birth_year):\n",
    "    generation = birth_year\n",
    "    print (\"Generation: \")\n",
    "    print (generation)\n",
    "    if generation < 1949:\n",
    "        return name1 + \" is silent generation\"\n",
    "    if generation < 1969:\n",
    "        return name1 + \" is a baby boomer\"\n",
    "    if generation < 1981:\n",
    "        return name1 + \" is X generation\"\n",
    "    if generation < 1994:\n",
    "        return name1 + \" is a millennial\"\n",
    "    else:\n",
    "        return name1 + \" is Z generation\"\n",
    "    \n",
    "name1 = str(input('Enter name: '))\n",
    "birth_year1 = int(input('Enter birth year: '))\n",
    "\n",
    "result1 = generation_calculator (name1, birth_year1)\n",
    "\n",
    " \n",
    "print (result1)\n"
   ]
  },
  {
   "cell_type": "code",
   "execution_count": null,
   "id": "f7b36093",
   "metadata": {},
   "outputs": [],
   "source": []
  }
 ],
 "metadata": {
  "kernelspec": {
   "display_name": "Python 3",
   "language": "python",
   "name": "python3"
  },
  "language_info": {
   "codemirror_mode": {
    "name": "ipython",
    "version": 3
   },
   "file_extension": ".py",
   "mimetype": "text/x-python",
   "name": "python",
   "nbconvert_exporter": "python",
   "pygments_lexer": "ipython3",
   "version": "3.8.8"
  }
 },
 "nbformat": 4,
 "nbformat_minor": 5
}
