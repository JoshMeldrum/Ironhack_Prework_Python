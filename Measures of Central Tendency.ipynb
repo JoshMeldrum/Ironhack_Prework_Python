{
 "cells": [
  {
   "cell_type": "code",
   "execution_count": null,
   "id": "7b3bb415",
   "metadata": {},
   "outputs": [],
   "source": [
    "# 1.1 False"
   ]
  },
  {
   "cell_type": "code",
   "execution_count": 7,
   "id": "828f2a56",
   "metadata": {},
   "outputs": [
    {
     "name": "stdout",
     "output_type": "stream",
     "text": [
      "Mean   =  6.72\n",
      "Median =  7\n",
      "Mode   =  7\n"
     ]
    }
   ],
   "source": [
    "import statistics as stats\n",
    "data = [4,  7,  5,  9,  8,  6,  7,  7,  8,  5,  6,  9,  8, 5,  8,  7,  4,  7, 3,  6,  8,  9,  7,  6,  9]\n",
    "\n",
    "print(\"Mean   = \" , stats.mean(data))\n",
    "\n",
    "print(\"Median = \", stats.median(data))\n",
    "\n",
    "print(\"Mode   = \", stats.mode(data))\n",
    "\n",
    "data_dictionary = {}\n",
    "data_dictionary['Mean'] =  stats.mean(data)\n",
    "data_dictionary['Median'] =  stats.median(data)\n",
    "data_dictionary['Mode'] =  stats.mode(data)\n",
    "\n",
    "\n"
   ]
  },
  {
   "cell_type": "code",
   "execution_count": 8,
   "id": "36c684cf",
   "metadata": {},
   "outputs": [],
   "source": [
    "#1.3 - Median\n",
    "#1.4 - average the 2 numbers in the middle\n",
    "#1.5 - outlier - an item in a data set that is significantly different from the rest. Mean is most susceptible to change given outliers"
   ]
  },
  {
   "cell_type": "code",
   "execution_count": null,
   "id": "4d2ec931",
   "metadata": {},
   "outputs": [],
   "source": []
  }
 ],
 "metadata": {
  "kernelspec": {
   "display_name": "Python 3",
   "language": "python",
   "name": "python3"
  },
  "language_info": {
   "codemirror_mode": {
    "name": "ipython",
    "version": 3
   },
   "file_extension": ".py",
   "mimetype": "text/x-python",
   "name": "python",
   "nbconvert_exporter": "python",
   "pygments_lexer": "ipython3",
   "version": "3.8.8"
  }
 },
 "nbformat": 4,
 "nbformat_minor": 5
}
