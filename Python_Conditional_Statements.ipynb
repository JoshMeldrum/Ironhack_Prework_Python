{
 "cells": [
  {
   "cell_type": "code",
   "execution_count": 31,
   "id": "28ff8bc9",
   "metadata": {},
   "outputs": [
    {
     "name": "stdout",
     "output_type": "stream",
     "text": [
      "Enter a number: 8\n",
      "number is even\n"
     ]
    }
   ],
   "source": [
    "a = int(input(\"Enter a number: \"))\n",
    "if a == 0:\n",
    "    print(' number is zero')\n",
    "elif (a%2) == 0:\n",
    "    print('number is even')\n",
    "else:\n",
    "    print('number is odd')"
   ]
  },
  {
   "cell_type": "code",
   "execution_count": 33,
   "id": "470b2f97",
   "metadata": {},
   "outputs": [
    {
     "name": "stdout",
     "output_type": "stream",
     "text": [
      "Enter a number: -1524\n",
      "number is negative\n"
     ]
    }
   ],
   "source": [
    "num = int(input(\"Enter a number: \"))\n",
    "if num>0:\n",
    "    print('number is positive')\n",
    "elif num<0:\n",
    "    print('number is negative')\n",
    "else:\n",
    "    print('number is 0')\n"
   ]
  },
  {
   "cell_type": "code",
   "execution_count": 36,
   "id": "0e9a1853",
   "metadata": {},
   "outputs": [
    {
     "name": "stdout",
     "output_type": "stream",
     "text": [
      "Enter number grade: 95\n",
      "A\n"
     ]
    }
   ],
   "source": [
    "grade = int(input(\"Enter number grade: \"))\n",
    "if grade < 25:\n",
    "    print('F')\n",
    "elif grade>25 and grade<45:\n",
    "    print('E')\n",
    "elif grade>45 and grade<60:\n",
    "    print('D')\n",
    "elif grade>60 and grade<75:\n",
    "    print('C')\n",
    "elif grade>75 and grade<90:\n",
    "    print('B')\n",
    "else:\n",
    "    print('A')\n",
    "    "
   ]
  }
 ],
 "metadata": {
  "kernelspec": {
   "display_name": "Python 3",
   "language": "python",
   "name": "python3"
  },
  "language_info": {
   "codemirror_mode": {
    "name": "ipython",
    "version": 3
   },
   "file_extension": ".py",
   "mimetype": "text/x-python",
   "name": "python",
   "nbconvert_exporter": "python",
   "pygments_lexer": "ipython3",
   "version": "3.8.8"
  }
 },
 "nbformat": 4,
 "nbformat_minor": 5
}
